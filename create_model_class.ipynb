{
 "cells": [
  {
   "cell_type": "code",
   "execution_count": 1,
   "id": "fce63281",
   "metadata": {},
   "outputs": [],
   "source": [
    "import numpy as np\n",
    "import os\n",
    "import PIL\n",
    "import PIL.Image\n",
    "import tensorflow as tf\n",
    "import tensorflow.keras.datasets as tfds\n",
    "from tensorflow.keras import datasets, layers, models\n",
    "import matplotlib.pyplot as plt\n",
    "from tensorflow.keras.preprocessing import image\n",
    "\n",
    "from tensorflow.keras.applications.efficientnet_v2 import EfficientNetV2B1\n",
    "from tensorflow.keras.preprocessing import image\n",
    "from tensorflow.keras.models import Model\n",
    "from tensorflow.keras.layers import Dense, GlobalAveragePooling2D, Flatten\n"
   ]
  },
  {
   "cell_type": "code",
   "execution_count": 2,
   "id": "e474bac1",
   "metadata": {},
   "outputs": [
    {
     "name": "stdout",
     "output_type": "stream",
     "text": [
      "1 Physical GPUs, 1 Logical GPUs\n"
     ]
    }
   ],
   "source": [
    "gpus = tf.config.list_physical_devices('GPU')\n",
    "if gpus:\n",
    "    try:\n",
    "    # Currently, memory growth needs to be the same across GPUs\n",
    "        for gpu in gpus:\n",
    "            tf.config.experimental.set_memory_growth(gpu, True)\n",
    "            logical_gpus = tf.config.list_logical_devices('GPU')\n",
    "            print(len(gpus), \"Physical GPUs,\", len(logical_gpus), \"Logical GPUs\")\n",
    "    except RuntimeError as e:\n",
    "    # Memory growth must be set before GPUs have been initialized\n",
    "        print(e)\n",
    "tf. config. list_physical_devices('GPU') \n",
    "tf.debugging.set_log_device_placement(True)"
   ]
  },
  {
   "cell_type": "code",
   "execution_count": 3,
   "id": "7604287b",
   "metadata": {},
   "outputs": [],
   "source": [
    "#Start module from here"
   ]
  },
  {
   "cell_type": "code",
   "execution_count": 58,
   "id": "219429cf",
   "metadata": {},
   "outputs": [
    {
     "data": {
      "text/plain": [
       "'D:\\\\0-Rojects\\\\2023-Atomhack/Трубы/Dataset/'"
      ]
     },
     "execution_count": 58,
     "metadata": {},
     "output_type": "execute_result"
    }
   ],
   "source": [
    "import os\n",
    "path = os.getcwd()\n",
    "data_dir = path+'/Трубы/Dataset/'#png'\n",
    "data_dir\n",
    "#os.scandir\n",
    "#from glob import glob\n",
    "#glob('C:\\\\Users\\\\Gliwork\\\\Desktop\\\\0-Rojects\\\\2023 Khabarovsk hackaton\\\\dataset\\\\*', recursive = True)"
   ]
  },
  {
   "cell_type": "code",
   "execution_count": 59,
   "id": "c7f14eeb",
   "metadata": {},
   "outputs": [
    {
     "name": "stdout",
     "output_type": "stream",
     "text": [
      "Found 29287 files belonging to 14 classes.\n",
      "Using 20501 files for training.\n"
     ]
    }
   ],
   "source": [
    "batch_size = 128 #32\n",
    "img_height = 160\n",
    "img_width = 160\n",
    "\n",
    "train_ds = tf.keras.utils.image_dataset_from_directory(\n",
    "  data_dir,\n",
    "  validation_split=0.3,\n",
    "  subset=\"training\",\n",
    "  seed=123,\n",
    "  image_size=(img_height, img_width),\n",
    "  crop_to_aspect_ratio=True,\n",
    "  batch_size=batch_size)"
   ]
  },
  {
   "cell_type": "code",
   "execution_count": 60,
   "id": "fe35d533",
   "metadata": {},
   "outputs": [
    {
     "name": "stdout",
     "output_type": "stream",
     "text": [
      "Found 29287 files belonging to 14 classes.\n",
      "Using 5857 files for validation.\n"
     ]
    }
   ],
   "source": [
    "val_ds = tf.keras.utils.image_dataset_from_directory(\n",
    "  data_dir,\n",
    "  validation_split=0.2,\n",
    "  subset=\"validation\",\n",
    "  seed=123,\n",
    "  image_size=(img_height, img_width),\n",
    "  batch_size=batch_size)"
   ]
  },
  {
   "cell_type": "code",
   "execution_count": 61,
   "id": "52ae9f77",
   "metadata": {},
   "outputs": [],
   "source": [
    "resize_and_rescale = tf.keras.Sequential([\n",
    "  layers.Rescaling(1./255)\n",
    "])\n"
   ]
  },
  {
   "cell_type": "code",
   "execution_count": 62,
   "id": "9d63e33b",
   "metadata": {},
   "outputs": [],
   "source": [
    "data_augmentation = tf.keras.Sequential([\n",
    "  #layers.RandomFlip(\"horizontal_and_vertical\"),\n",
    "  layers.RandomRotation(0.2),\n",
    "])\n",
    "#aug_ds = train_ds.map(lambda x, y: (data_augmentation(x, training=True), y))"
   ]
  },
  {
   "cell_type": "code",
   "execution_count": 7,
   "id": "e81cef09",
   "metadata": {},
   "outputs": [
    {
     "name": "stdout",
     "output_type": "stream",
     "text": [
      "['0', '1', '10', '11', '12', '13', '2', '3', '4', '5', '6', '7', '8', '9']\n"
     ]
    }
   ],
   "source": [
    "class_names = train_ds.class_names\n",
    "detail_names_list = train_ds.class_names\n",
    "print(class_names)\n"
   ]
  },
  {
   "cell_type": "code",
   "execution_count": 8,
   "id": "6041da65",
   "metadata": {},
   "outputs": [],
   "source": [
    "num_classes = len(class_names)"
   ]
  },
  {
   "cell_type": "code",
   "execution_count": 63,
   "id": "91019927",
   "metadata": {},
   "outputs": [],
   "source": [
    "AUTOTUNE = tf.data.AUTOTUNE\n",
    "\n",
    "train_ds = train_ds.cache().prefetch(buffer_size=AUTOTUNE)\n",
    "val_ds = val_ds.cache().prefetch(buffer_size=AUTOTUNE)"
   ]
  },
  {
   "cell_type": "code",
   "execution_count": 2,
   "id": "1820c9ab",
   "metadata": {},
   "outputs": [],
   "source": [
    "#batch_size = 128\n",
    "#AUTOTUNE = tf.data.AUTOTUNE\n",
    "\n",
    "def prepare(ds, shuffle=False, augment=False):\n",
    "  # Resize and rescale all datasets.\n",
    "    #ds = ds.map(lambda x, y: (resize_and_rescale(x), y),\n",
    "    #          num_parallel_calls=AUTOTUNE)\n",
    "\n",
    "    if shuffle:\n",
    "        ds = ds.shuffle(1000)\n",
    "\n",
    "  # Batch all datasets.\n",
    "        ds = ds.batch(batch_size)\n",
    "\n",
    "  # Use data augmentation only on the training set.\n",
    "    if augment:\n",
    "        ds = ds.map(lambda x, y: (data_augmentation(x, training=True), y),\n",
    "                num_parallel_calls=AUTOTUNE)\n",
    "\n",
    "  # Use buffered prefetching on all datasets.\n",
    "    return ds.prefetch(buffer_size=AUTOTUNE)\n",
    "\n",
    "\n",
    "#train_ds = prepare(train_ds, shuffle=True, augment=True)\n",
    "#val_ds = prepare(val_ds)\n",
    "#test_ds = prepare(test_ds)"
   ]
  },
  {
   "cell_type": "code",
   "execution_count": 45,
   "id": "aa169ccc",
   "metadata": {},
   "outputs": [],
   "source": [
    "import tensorflow as tf\n",
    "\n",
    "def f1(y_true, y_pred):\n",
    "    predLabels = K.argmax(pred, axis=-1)\n",
    "    pred = K.one_hot(predLabels, 4) \n",
    "    y_pred = K.round(y_pred)\n",
    "    tp = K.sum(K.cast(y_true*y_pred, 'float'), axis=0)\n",
    "    tn = K.sum(K.cast((1-y_true)*(1-y_pred), 'float'), axis=0)\n",
    "    fp = K.sum(K.cast((1-y_true)*y_pred, 'float'), axis=0)\n",
    "    fn = K.sum(K.cast(y_true*(1-y_pred), 'float'), axis=0)\n",
    "\n",
    "    p = tp / (tp + fp + K.epsilon())\n",
    "    r = tp / (tp + fn + K.epsilon())\n",
    "\n",
    "    f1 = 2*p*r / (p+r+K.epsilon())\n",
    "    f1 = tf.where(tf.is_nan(f1), tf.zeros_like(f1), f1)\n",
    "    return K.mean(f1)\n",
    "\n",
    "def f1_loss(y_true, y_pred):\n",
    "    y_pred = K.round(y_pred)\n",
    "    tp = K.sum(K.cast(y_true*y_pred, 'float'), axis=0)\n",
    "    tn = K.sum(K.cast((1-y_true)*(1-y_pred), 'float'), axis=0)\n",
    "    fp = K.sum(K.cast((1-y_true)*y_pred, 'float'), axis=0)\n",
    "    fn = K.sum(K.cast(y_true*(1-y_pred), 'float'), axis=0)\n",
    "\n",
    "    p = tp / (tp + fp + K.epsilon())\n",
    "    r = tp / (tp + fn + K.epsilon())\n",
    "\n",
    "    f1 = 2*p*r / (p+r+K.epsilon())\n",
    "    f1 = tf.where(tf.is_nan(f1), tf.zeros_like(f1), f1)\n",
    "    return 1 - K.mean(f1)\n",
    "\n",
    "\n"
   ]
  },
  {
   "cell_type": "code",
   "execution_count": 66,
   "id": "7564739a",
   "metadata": {},
   "outputs": [],
   "source": [
    "import keras.backend as K\n",
    "#tf.keras.saving.get_custom_objects().clear()\n",
    "#@tf.keras.saving.register_keras_serializable(package=\"my_package\", name=\"f1_weighted\")\n",
    "def f1_weighted(true, pred): #shapes (batch, 4)\n",
    "\n",
    "    #for metrics include these two lines, for loss, don't include them\n",
    "    #these are meant to round 'pred' to exactly zeros and ones\n",
    "    predLabels = K.argmax(pred, axis=-1)\n",
    "    pred = K.one_hot(predLabels, 4) \n",
    "\n",
    "\n",
    "    ground_positives = K.sum(true, axis=0) + K.epsilon()       # = TP + FN\n",
    "    pred_positives = K.sum(pred, axis=0) + K.epsilon()         # = TP + FP\n",
    "    true_positives = K.sum(true * pred, axis=0) + K.epsilon()  # = TP\n",
    "        #all with shape (4,)\n",
    "    \n",
    "    precision = true_positives / pred_positives \n",
    "    recall = true_positives / ground_positives\n",
    "        #both = 1 if ground_positives == 0 or pred_positives == 0\n",
    "        #shape (4,)\n",
    "\n",
    "    f1 = 2 * (precision * recall) / (precision + recall + K.epsilon())\n",
    "        #still with shape (4,)\n",
    "\n",
    "    weighted_f1 = f1 * ground_positives / K.sum(ground_positives) \n",
    "    weighted_f1 = K.sum(weighted_f1)\n",
    "\n",
    "    \n",
    "    return 1 - weighted_f1 #for metrics, return only 'weighted_f1'"
   ]
  },
  {
   "cell_type": "code",
   "execution_count": 67,
   "id": "16e849e5",
   "metadata": {},
   "outputs": [],
   "source": [
    "early_stop = tf.keras.callbacks.EarlyStopping(\n",
    "    monitor=\"val_loss\",\n",
    "    #start_from_epoch=10,\n",
    "    patience=4\n",
    ")\n",
    "model_save = tf.keras.callbacks.ModelCheckpoint(\n",
    "    path,\n",
    "    save_best_only = True,\n",
    ")\n",
    "callbacks = [early_stop,model_save]"
   ]
  },
  {
   "cell_type": "code",
   "execution_count": 69,
   "id": "4273251c",
   "metadata": {},
   "outputs": [
    {
     "name": "stdout",
     "output_type": "stream",
     "text": [
      "Epoch 1/20\n",
      "161/161 [==============================] - 37s 169ms/step - loss: 0.8070 - accuracy: 0.7900 - val_loss: 0.6677 - val_accuracy: 0.8195\n",
      "Epoch 2/20\n",
      "161/161 [==============================] - 14s 86ms/step - loss: 0.6366 - accuracy: 0.8297 - val_loss: 0.6296 - val_accuracy: 0.8305\n",
      "Epoch 3/20\n",
      "161/161 [==============================] - 14s 85ms/step - loss: 0.5966 - accuracy: 0.8400 - val_loss: 0.6266 - val_accuracy: 0.8313\n",
      "Epoch 4/20\n",
      "161/161 [==============================] - 14s 85ms/step - loss: 0.5714 - accuracy: 0.8489 - val_loss: 0.6121 - val_accuracy: 0.8346\n",
      "Epoch 5/20\n",
      "161/161 [==============================] - 14s 86ms/step - loss: 0.5554 - accuracy: 0.8507 - val_loss: 0.6212 - val_accuracy: 0.8291\n",
      "Epoch 6/20\n",
      "161/161 [==============================] - 14s 87ms/step - loss: 0.5410 - accuracy: 0.8559 - val_loss: 0.6284 - val_accuracy: 0.8299\n",
      "Epoch 7/20\n",
      "161/161 [==============================] - 14s 87ms/step - loss: 0.5349 - accuracy: 0.8560 - val_loss: 0.6071 - val_accuracy: 0.8409\n",
      "Epoch 8/20\n",
      "161/161 [==============================] - 14s 87ms/step - loss: 0.5198 - accuracy: 0.8600 - val_loss: 0.6006 - val_accuracy: 0.8417\n",
      "Epoch 9/20\n",
      "161/161 [==============================] - 14s 86ms/step - loss: 0.5102 - accuracy: 0.8633 - val_loss: 0.6069 - val_accuracy: 0.8398\n",
      "Epoch 10/20\n",
      "161/161 [==============================] - 14s 86ms/step - loss: 0.5033 - accuracy: 0.8663 - val_loss: 0.6096 - val_accuracy: 0.8414\n",
      "Epoch 11/20\n",
      "161/161 [==============================] - 14s 86ms/step - loss: 0.5019 - accuracy: 0.8661 - val_loss: 0.6019 - val_accuracy: 0.8439\n",
      "Epoch 12/20\n",
      "161/161 [==============================] - 14s 86ms/step - loss: 0.4889 - accuracy: 0.8703 - val_loss: 0.6138 - val_accuracy: 0.8383\n",
      "Epoch 13/20\n",
      "161/161 [==============================] - 14s 86ms/step - loss: 0.4794 - accuracy: 0.8713 - val_loss: 0.6036 - val_accuracy: 0.8431\n",
      "Epoch 14/20\n",
      "161/161 [==============================] - 14s 86ms/step - loss: 0.4750 - accuracy: 0.8738 - val_loss: 0.6095 - val_accuracy: 0.8426\n",
      "Epoch 15/20\n",
      "161/161 [==============================] - 14s 86ms/step - loss: 0.4750 - accuracy: 0.8732 - val_loss: 0.6182 - val_accuracy: 0.8412\n",
      "Epoch 16/20\n",
      "161/161 [==============================] - 14s 87ms/step - loss: 0.4701 - accuracy: 0.8743 - val_loss: 0.6217 - val_accuracy: 0.8436\n",
      "Epoch 17/20\n",
      "161/161 [==============================] - 14s 87ms/step - loss: 0.4658 - accuracy: 0.8758 - val_loss: 0.6156 - val_accuracy: 0.8414\n",
      "Epoch 18/20\n",
      "161/161 [==============================] - 14s 87ms/step - loss: 0.4595 - accuracy: 0.8786 - val_loss: 0.5994 - val_accuracy: 0.8463\n",
      "Epoch 19/20\n",
      "161/161 [==============================] - 14s 87ms/step - loss: 0.4610 - accuracy: 0.8768 - val_loss: 0.6154 - val_accuracy: 0.8417\n",
      "Epoch 20/20\n",
      "161/161 [==============================] - 14s 88ms/step - loss: 0.4552 - accuracy: 0.8789 - val_loss: 0.6259 - val_accuracy: 0.8402\n",
      "Epoch 1/20\n"
     ]
    },
    {
     "name": "stderr",
     "output_type": "stream",
     "text": [
      "WARNING:absl:Found untraced functions such as _jit_compiled_convolution_op, _jit_compiled_convolution_op, _jit_compiled_convolution_op, _jit_compiled_convolution_op, _jit_compiled_convolution_op while saving (showing 5 of 111). These functions will not be directly callable after loading.\n"
     ]
    },
    {
     "name": "stdout",
     "output_type": "stream",
     "text": [
      "INFO:tensorflow:Assets written to: D:\\0-Rojects\\2023-Atomhack\\assets\n"
     ]
    },
    {
     "name": "stderr",
     "output_type": "stream",
     "text": [
      "INFO:tensorflow:Assets written to: D:\\0-Rojects\\2023-Atomhack\\assets\n"
     ]
    },
    {
     "name": "stdout",
     "output_type": "stream",
     "text": [
      "161/161 - 76s - loss: 1.7714 - accuracy: 0.5874 - val_loss: 1.1026 - val_accuracy: 0.7159 - 76s/epoch - 471ms/step\n",
      "Epoch 2/20\n"
     ]
    },
    {
     "name": "stderr",
     "output_type": "stream",
     "text": [
      "WARNING:absl:Found untraced functions such as _jit_compiled_convolution_op, _jit_compiled_convolution_op, _jit_compiled_convolution_op, _jit_compiled_convolution_op, _jit_compiled_convolution_op while saving (showing 5 of 111). These functions will not be directly callable after loading.\n"
     ]
    },
    {
     "name": "stdout",
     "output_type": "stream",
     "text": [
      "INFO:tensorflow:Assets written to: D:\\0-Rojects\\2023-Atomhack\\assets\n"
     ]
    },
    {
     "name": "stderr",
     "output_type": "stream",
     "text": [
      "INFO:tensorflow:Assets written to: D:\\0-Rojects\\2023-Atomhack\\assets\n"
     ]
    },
    {
     "name": "stdout",
     "output_type": "stream",
     "text": [
      "161/161 - 61s - loss: 1.0474 - accuracy: 0.7217 - val_loss: 0.9638 - val_accuracy: 0.7558 - 61s/epoch - 377ms/step\n",
      "Epoch 3/20\n"
     ]
    },
    {
     "name": "stderr",
     "output_type": "stream",
     "text": [
      "WARNING:absl:Found untraced functions such as _jit_compiled_convolution_op, _jit_compiled_convolution_op, _jit_compiled_convolution_op, _jit_compiled_convolution_op, _jit_compiled_convolution_op while saving (showing 5 of 111). These functions will not be directly callable after loading.\n"
     ]
    },
    {
     "name": "stdout",
     "output_type": "stream",
     "text": [
      "INFO:tensorflow:Assets written to: D:\\0-Rojects\\2023-Atomhack\\assets\n"
     ]
    },
    {
     "name": "stderr",
     "output_type": "stream",
     "text": [
      "INFO:tensorflow:Assets written to: D:\\0-Rojects\\2023-Atomhack\\assets\n"
     ]
    },
    {
     "name": "stdout",
     "output_type": "stream",
     "text": [
      "161/161 - 62s - loss: 0.9329 - accuracy: 0.7542 - val_loss: 0.8917 - val_accuracy: 0.7779 - 62s/epoch - 384ms/step\n",
      "Epoch 4/20\n"
     ]
    },
    {
     "name": "stderr",
     "output_type": "stream",
     "text": [
      "WARNING:absl:Found untraced functions such as _jit_compiled_convolution_op, _jit_compiled_convolution_op, _jit_compiled_convolution_op, _jit_compiled_convolution_op, _jit_compiled_convolution_op while saving (showing 5 of 111). These functions will not be directly callable after loading.\n"
     ]
    },
    {
     "name": "stdout",
     "output_type": "stream",
     "text": [
      "INFO:tensorflow:Assets written to: D:\\0-Rojects\\2023-Atomhack\\assets\n"
     ]
    },
    {
     "name": "stderr",
     "output_type": "stream",
     "text": [
      "INFO:tensorflow:Assets written to: D:\\0-Rojects\\2023-Atomhack\\assets\n"
     ]
    },
    {
     "name": "stdout",
     "output_type": "stream",
     "text": [
      "161/161 - 61s - loss: 0.8651 - accuracy: 0.7785 - val_loss: 0.8495 - val_accuracy: 0.7920 - 61s/epoch - 379ms/step\n",
      "Epoch 5/20\n"
     ]
    },
    {
     "name": "stderr",
     "output_type": "stream",
     "text": [
      "WARNING:absl:Found untraced functions such as _jit_compiled_convolution_op, _jit_compiled_convolution_op, _jit_compiled_convolution_op, _jit_compiled_convolution_op, _jit_compiled_convolution_op while saving (showing 5 of 111). These functions will not be directly callable after loading.\n"
     ]
    },
    {
     "name": "stdout",
     "output_type": "stream",
     "text": [
      "INFO:tensorflow:Assets written to: D:\\0-Rojects\\2023-Atomhack\\assets\n"
     ]
    },
    {
     "name": "stderr",
     "output_type": "stream",
     "text": [
      "INFO:tensorflow:Assets written to: D:\\0-Rojects\\2023-Atomhack\\assets\n"
     ]
    },
    {
     "name": "stdout",
     "output_type": "stream",
     "text": [
      "161/161 - 61s - loss: 0.8260 - accuracy: 0.7884 - val_loss: 0.8121 - val_accuracy: 0.8023 - 61s/epoch - 378ms/step\n",
      "Epoch 6/20\n"
     ]
    },
    {
     "name": "stderr",
     "output_type": "stream",
     "text": [
      "WARNING:absl:Found untraced functions such as _jit_compiled_convolution_op, _jit_compiled_convolution_op, _jit_compiled_convolution_op, _jit_compiled_convolution_op, _jit_compiled_convolution_op while saving (showing 5 of 111). These functions will not be directly callable after loading.\n"
     ]
    },
    {
     "name": "stdout",
     "output_type": "stream",
     "text": [
      "INFO:tensorflow:Assets written to: D:\\0-Rojects\\2023-Atomhack\\assets\n"
     ]
    },
    {
     "name": "stderr",
     "output_type": "stream",
     "text": [
      "INFO:tensorflow:Assets written to: D:\\0-Rojects\\2023-Atomhack\\assets\n"
     ]
    },
    {
     "name": "stdout",
     "output_type": "stream",
     "text": [
      "161/161 - 61s - loss: 0.7930 - accuracy: 0.7964 - val_loss: 0.7893 - val_accuracy: 0.8076 - 61s/epoch - 380ms/step\n",
      "Epoch 7/20\n"
     ]
    },
    {
     "name": "stderr",
     "output_type": "stream",
     "text": [
      "WARNING:absl:Found untraced functions such as _jit_compiled_convolution_op, _jit_compiled_convolution_op, _jit_compiled_convolution_op, _jit_compiled_convolution_op, _jit_compiled_convolution_op while saving (showing 5 of 111). These functions will not be directly callable after loading.\n"
     ]
    },
    {
     "name": "stdout",
     "output_type": "stream",
     "text": [
      "INFO:tensorflow:Assets written to: D:\\0-Rojects\\2023-Atomhack\\assets\n"
     ]
    },
    {
     "name": "stderr",
     "output_type": "stream",
     "text": [
      "INFO:tensorflow:Assets written to: D:\\0-Rojects\\2023-Atomhack\\assets\n"
     ]
    },
    {
     "name": "stdout",
     "output_type": "stream",
     "text": [
      "161/161 - 62s - loss: 0.7594 - accuracy: 0.8048 - val_loss: 0.7651 - val_accuracy: 0.8115 - 62s/epoch - 382ms/step\n",
      "Epoch 8/20\n"
     ]
    },
    {
     "name": "stderr",
     "output_type": "stream",
     "text": [
      "WARNING:absl:Found untraced functions such as _jit_compiled_convolution_op, _jit_compiled_convolution_op, _jit_compiled_convolution_op, _jit_compiled_convolution_op, _jit_compiled_convolution_op while saving (showing 5 of 111). These functions will not be directly callable after loading.\n"
     ]
    },
    {
     "name": "stdout",
     "output_type": "stream",
     "text": [
      "INFO:tensorflow:Assets written to: D:\\0-Rojects\\2023-Atomhack\\assets\n"
     ]
    },
    {
     "name": "stderr",
     "output_type": "stream",
     "text": [
      "INFO:tensorflow:Assets written to: D:\\0-Rojects\\2023-Atomhack\\assets\n"
     ]
    },
    {
     "name": "stdout",
     "output_type": "stream",
     "text": [
      "161/161 - 61s - loss: 0.7396 - accuracy: 0.8096 - val_loss: 0.7461 - val_accuracy: 0.8154 - 61s/epoch - 378ms/step\n",
      "Epoch 9/20\n"
     ]
    },
    {
     "name": "stderr",
     "output_type": "stream",
     "text": [
      "WARNING:absl:Found untraced functions such as _jit_compiled_convolution_op, _jit_compiled_convolution_op, _jit_compiled_convolution_op, _jit_compiled_convolution_op, _jit_compiled_convolution_op while saving (showing 5 of 111). These functions will not be directly callable after loading.\n"
     ]
    },
    {
     "name": "stdout",
     "output_type": "stream",
     "text": [
      "INFO:tensorflow:Assets written to: D:\\0-Rojects\\2023-Atomhack\\assets\n"
     ]
    },
    {
     "name": "stderr",
     "output_type": "stream",
     "text": [
      "INFO:tensorflow:Assets written to: D:\\0-Rojects\\2023-Atomhack\\assets\n"
     ]
    },
    {
     "name": "stdout",
     "output_type": "stream",
     "text": [
      "161/161 - 61s - loss: 0.7255 - accuracy: 0.8127 - val_loss: 0.7361 - val_accuracy: 0.8180 - 61s/epoch - 380ms/step\n",
      "Epoch 10/20\n"
     ]
    },
    {
     "name": "stderr",
     "output_type": "stream",
     "text": [
      "WARNING:absl:Found untraced functions such as _jit_compiled_convolution_op, _jit_compiled_convolution_op, _jit_compiled_convolution_op, _jit_compiled_convolution_op, _jit_compiled_convolution_op while saving (showing 5 of 111). These functions will not be directly callable after loading.\n"
     ]
    },
    {
     "name": "stdout",
     "output_type": "stream",
     "text": [
      "INFO:tensorflow:Assets written to: D:\\0-Rojects\\2023-Atomhack\\assets\n"
     ]
    },
    {
     "name": "stderr",
     "output_type": "stream",
     "text": [
      "INFO:tensorflow:Assets written to: D:\\0-Rojects\\2023-Atomhack\\assets\n"
     ]
    },
    {
     "name": "stdout",
     "output_type": "stream",
     "text": [
      "161/161 - 61s - loss: 0.7058 - accuracy: 0.8185 - val_loss: 0.7236 - val_accuracy: 0.8214 - 61s/epoch - 379ms/step\n",
      "Epoch 11/20\n"
     ]
    },
    {
     "name": "stderr",
     "output_type": "stream",
     "text": [
      "WARNING:absl:Found untraced functions such as _jit_compiled_convolution_op, _jit_compiled_convolution_op, _jit_compiled_convolution_op, _jit_compiled_convolution_op, _jit_compiled_convolution_op while saving (showing 5 of 111). These functions will not be directly callable after loading.\n"
     ]
    },
    {
     "name": "stdout",
     "output_type": "stream",
     "text": [
      "INFO:tensorflow:Assets written to: D:\\0-Rojects\\2023-Atomhack\\assets\n"
     ]
    },
    {
     "name": "stderr",
     "output_type": "stream",
     "text": [
      "INFO:tensorflow:Assets written to: D:\\0-Rojects\\2023-Atomhack\\assets\n"
     ]
    },
    {
     "name": "stdout",
     "output_type": "stream",
     "text": [
      "161/161 - 63s - loss: 0.7001 - accuracy: 0.8190 - val_loss: 0.7105 - val_accuracy: 0.8214 - 63s/epoch - 390ms/step\n",
      "Epoch 12/20\n"
     ]
    },
    {
     "name": "stderr",
     "output_type": "stream",
     "text": [
      "WARNING:absl:Found untraced functions such as _jit_compiled_convolution_op, _jit_compiled_convolution_op, _jit_compiled_convolution_op, _jit_compiled_convolution_op, _jit_compiled_convolution_op while saving (showing 5 of 111). These functions will not be directly callable after loading.\n"
     ]
    },
    {
     "name": "stdout",
     "output_type": "stream",
     "text": [
      "INFO:tensorflow:Assets written to: D:\\0-Rojects\\2023-Atomhack\\assets\n"
     ]
    },
    {
     "name": "stderr",
     "output_type": "stream",
     "text": [
      "INFO:tensorflow:Assets written to: D:\\0-Rojects\\2023-Atomhack\\assets\n"
     ]
    },
    {
     "name": "stdout",
     "output_type": "stream",
     "text": [
      "161/161 - 59s - loss: 0.6856 - accuracy: 0.8227 - val_loss: 0.7030 - val_accuracy: 0.8236 - 59s/epoch - 366ms/step\n",
      "Epoch 13/20\n"
     ]
    },
    {
     "name": "stderr",
     "output_type": "stream",
     "text": [
      "WARNING:absl:Found untraced functions such as _jit_compiled_convolution_op, _jit_compiled_convolution_op, _jit_compiled_convolution_op, _jit_compiled_convolution_op, _jit_compiled_convolution_op while saving (showing 5 of 111). These functions will not be directly callable after loading.\n"
     ]
    },
    {
     "name": "stdout",
     "output_type": "stream",
     "text": [
      "INFO:tensorflow:Assets written to: D:\\0-Rojects\\2023-Atomhack\\assets\n"
     ]
    },
    {
     "name": "stderr",
     "output_type": "stream",
     "text": [
      "INFO:tensorflow:Assets written to: D:\\0-Rojects\\2023-Atomhack\\assets\n"
     ]
    },
    {
     "name": "stdout",
     "output_type": "stream",
     "text": [
      "161/161 - 63s - loss: 0.6731 - accuracy: 0.8254 - val_loss: 0.6934 - val_accuracy: 0.8243 - 63s/epoch - 393ms/step\n",
      "Epoch 14/20\n"
     ]
    },
    {
     "name": "stderr",
     "output_type": "stream",
     "text": [
      "WARNING:absl:Found untraced functions such as _jit_compiled_convolution_op, _jit_compiled_convolution_op, _jit_compiled_convolution_op, _jit_compiled_convolution_op, _jit_compiled_convolution_op while saving (showing 5 of 111). These functions will not be directly callable after loading.\n"
     ]
    },
    {
     "name": "stdout",
     "output_type": "stream",
     "text": [
      "INFO:tensorflow:Assets written to: D:\\0-Rojects\\2023-Atomhack\\assets\n"
     ]
    },
    {
     "name": "stderr",
     "output_type": "stream",
     "text": [
      "INFO:tensorflow:Assets written to: D:\\0-Rojects\\2023-Atomhack\\assets\n"
     ]
    },
    {
     "name": "stdout",
     "output_type": "stream",
     "text": [
      "161/161 - 58s - loss: 0.6677 - accuracy: 0.8255 - val_loss: 0.6876 - val_accuracy: 0.8248 - 58s/epoch - 363ms/step\n",
      "Epoch 15/20\n"
     ]
    },
    {
     "name": "stderr",
     "output_type": "stream",
     "text": [
      "WARNING:absl:Found untraced functions such as _jit_compiled_convolution_op, _jit_compiled_convolution_op, _jit_compiled_convolution_op, _jit_compiled_convolution_op, _jit_compiled_convolution_op while saving (showing 5 of 111). These functions will not be directly callable after loading.\n"
     ]
    },
    {
     "name": "stdout",
     "output_type": "stream",
     "text": [
      "INFO:tensorflow:Assets written to: D:\\0-Rojects\\2023-Atomhack\\assets\n"
     ]
    },
    {
     "name": "stderr",
     "output_type": "stream",
     "text": [
      "INFO:tensorflow:Assets written to: D:\\0-Rojects\\2023-Atomhack\\assets\n"
     ]
    },
    {
     "name": "stdout",
     "output_type": "stream",
     "text": [
      "161/161 - 62s - loss: 0.6590 - accuracy: 0.8286 - val_loss: 0.6853 - val_accuracy: 0.8260 - 62s/epoch - 382ms/step\n",
      "Epoch 16/20\n"
     ]
    },
    {
     "name": "stderr",
     "output_type": "stream",
     "text": [
      "WARNING:absl:Found untraced functions such as _jit_compiled_convolution_op, _jit_compiled_convolution_op, _jit_compiled_convolution_op, _jit_compiled_convolution_op, _jit_compiled_convolution_op while saving (showing 5 of 111). These functions will not be directly callable after loading.\n"
     ]
    },
    {
     "name": "stdout",
     "output_type": "stream",
     "text": [
      "INFO:tensorflow:Assets written to: D:\\0-Rojects\\2023-Atomhack\\assets\n"
     ]
    },
    {
     "name": "stderr",
     "output_type": "stream",
     "text": [
      "INFO:tensorflow:Assets written to: D:\\0-Rojects\\2023-Atomhack\\assets\n"
     ]
    },
    {
     "name": "stdout",
     "output_type": "stream",
     "text": [
      "161/161 - 61s - loss: 0.6479 - accuracy: 0.8281 - val_loss: 0.6768 - val_accuracy: 0.8272 - 61s/epoch - 379ms/step\n",
      "Epoch 17/20\n"
     ]
    },
    {
     "name": "stderr",
     "output_type": "stream",
     "text": [
      "WARNING:absl:Found untraced functions such as _jit_compiled_convolution_op, _jit_compiled_convolution_op, _jit_compiled_convolution_op, _jit_compiled_convolution_op, _jit_compiled_convolution_op while saving (showing 5 of 111). These functions will not be directly callable after loading.\n"
     ]
    },
    {
     "name": "stdout",
     "output_type": "stream",
     "text": [
      "INFO:tensorflow:Assets written to: D:\\0-Rojects\\2023-Atomhack\\assets\n"
     ]
    },
    {
     "name": "stderr",
     "output_type": "stream",
     "text": [
      "INFO:tensorflow:Assets written to: D:\\0-Rojects\\2023-Atomhack\\assets\n"
     ]
    },
    {
     "name": "stdout",
     "output_type": "stream",
     "text": [
      "161/161 - 61s - loss: 0.6447 - accuracy: 0.8318 - val_loss: 0.6717 - val_accuracy: 0.8272 - 61s/epoch - 382ms/step\n",
      "Epoch 18/20\n"
     ]
    },
    {
     "name": "stderr",
     "output_type": "stream",
     "text": [
      "WARNING:absl:Found untraced functions such as _jit_compiled_convolution_op, _jit_compiled_convolution_op, _jit_compiled_convolution_op, _jit_compiled_convolution_op, _jit_compiled_convolution_op while saving (showing 5 of 111). These functions will not be directly callable after loading.\n"
     ]
    },
    {
     "name": "stdout",
     "output_type": "stream",
     "text": [
      "INFO:tensorflow:Assets written to: D:\\0-Rojects\\2023-Atomhack\\assets\n"
     ]
    },
    {
     "name": "stderr",
     "output_type": "stream",
     "text": [
      "INFO:tensorflow:Assets written to: D:\\0-Rojects\\2023-Atomhack\\assets\n"
     ]
    },
    {
     "name": "stdout",
     "output_type": "stream",
     "text": [
      "161/161 - 61s - loss: 0.6358 - accuracy: 0.8342 - val_loss: 0.6661 - val_accuracy: 0.8279 - 61s/epoch - 380ms/step\n",
      "Epoch 19/20\n"
     ]
    },
    {
     "name": "stderr",
     "output_type": "stream",
     "text": [
      "WARNING:absl:Found untraced functions such as _jit_compiled_convolution_op, _jit_compiled_convolution_op, _jit_compiled_convolution_op, _jit_compiled_convolution_op, _jit_compiled_convolution_op while saving (showing 5 of 111). These functions will not be directly callable after loading.\n"
     ]
    },
    {
     "name": "stdout",
     "output_type": "stream",
     "text": [
      "INFO:tensorflow:Assets written to: D:\\0-Rojects\\2023-Atomhack\\assets\n"
     ]
    },
    {
     "name": "stderr",
     "output_type": "stream",
     "text": [
      "INFO:tensorflow:Assets written to: D:\\0-Rojects\\2023-Atomhack\\assets\n"
     ]
    },
    {
     "name": "stdout",
     "output_type": "stream",
     "text": [
      "161/161 - 61s - loss: 0.6301 - accuracy: 0.8345 - val_loss: 0.6653 - val_accuracy: 0.8305 - 61s/epoch - 378ms/step\n",
      "Epoch 20/20\n"
     ]
    },
    {
     "name": "stderr",
     "output_type": "stream",
     "text": [
      "WARNING:absl:Found untraced functions such as _jit_compiled_convolution_op, _jit_compiled_convolution_op, _jit_compiled_convolution_op, _jit_compiled_convolution_op, _jit_compiled_convolution_op while saving (showing 5 of 111). These functions will not be directly callable after loading.\n"
     ]
    },
    {
     "name": "stdout",
     "output_type": "stream",
     "text": [
      "INFO:tensorflow:Assets written to: D:\\0-Rojects\\2023-Atomhack\\assets\n"
     ]
    },
    {
     "name": "stderr",
     "output_type": "stream",
     "text": [
      "INFO:tensorflow:Assets written to: D:\\0-Rojects\\2023-Atomhack\\assets\n"
     ]
    },
    {
     "name": "stdout",
     "output_type": "stream",
     "text": [
      "161/161 - 61s - loss: 0.6282 - accuracy: 0.8359 - val_loss: 0.6591 - val_accuracy: 0.8311 - 61s/epoch - 377ms/step\n"
     ]
    }
   ],
   "source": [
    "epochs = 20\n",
    "\n",
    "# create the base pre-trained model\n",
    "base_model = EfficientNetV2B1(weights='imagenet', include_top=False, input_shape = (img_height, img_width, 3))\n",
    "\n",
    "# add a global spatial average pooling layer\n",
    "x = base_model.output\n",
    "x = GlobalAveragePooling2D()(x)\n",
    "# let's add a fully-connected layer\n",
    "x = Dense(256, activation='relu')(x)\n",
    "x = Dense(128, activation='relu')(x)\n",
    "x = Dense(64, activation='relu')(x)\n",
    "# and a logistic layer -- let's say we have 200 classes\n",
    "predictions = Dense(num_classes, activation='softmax')(x)\n",
    "\n",
    "# this is the model we will train\n",
    "model = Model(inputs=base_model.input, outputs=predictions)\n",
    "\n",
    "# first: train only the top layers (which were randomly initialized)\n",
    "# i.e. freeze all convolutional InceptionV3 layers\n",
    "for layer in base_model.layers:\n",
    "    layer.trainable = False\n",
    "\n",
    "# compile the model (should be done *after* setting layers to non-trainable)\n",
    "model.compile(optimizer='adam',\n",
    "  loss=tf.keras.losses.SparseCategoricalCrossentropy(),#from_logits=True\n",
    "  metrics=['accuracy'])\n",
    "# train the model on the new data for a few epochs\n",
    "history = model.fit(\n",
    "    train_ds,\n",
    "    validation_data=val_ds,\n",
    "    epochs=epochs)#, callbacks=[callbacks]\n",
    "\n",
    "# at this point, the top layers are well trained and we can start fine-tuning\n",
    "# convolutional layers from inception V3. We will freeze the bottom N layers\n",
    "# and train the remaining top layers.\n",
    "\n",
    "# let's visualize layer names and layer indices to see how many layers\n",
    "# we should freeze:\n",
    "#for i, layer in enumerate(base_model.layers):\n",
    "#    print(i, layer.name)\n",
    "\n",
    "# we chose to train the top 2 inception blocks, i.e. we will freeze\n",
    "# the first 249 layers and unfreeze the rest:\n",
    "for layer in model.layers[:198]:\n",
    "    layer.trainable = False\n",
    "for layer in model.layers[198:]:\n",
    "    layer.trainable = True\n",
    "\n",
    "# we need to recompile the model for these modifications to take effect\n",
    "# we use SGD with a low learning rate\n",
    "from tensorflow.keras.optimizers import Adam\n",
    "model.compile(optimizer=tf.keras.optimizers.experimental.SGD(learning_rate=0.0001, momentum=0.9),#tf.keras.optimizers.Adam(\n",
    "    #learning_rate=0.0001),#,\n",
    "    #ema_momentum=0.95\n",
    "    #SGD(learning_rate=0.0001, momentum=0.9), \n",
    "    loss=tf.keras.losses.SparseCategoricalCrossentropy(),#from_logits=True\n",
    "    metrics=['accuracy'])#metrics=['accuracy'])f1_weighted\n",
    "\n",
    "# we train our model again (this time fine-tuning the top 2 inception blocks\n",
    "# alongside the top Dense layers\n",
    "history1 = model.fit(\n",
    "    train_ds,\n",
    "    validation_data=val_ds,\n",
    "    epochs=epochs, callbacks=[callbacks],\n",
    "verbose = 2)"
   ]
  },
  {
   "cell_type": "code",
   "execution_count": 70,
   "id": "805793e6",
   "metadata": {},
   "outputs": [
    {
     "data": {
      "image/png": "[encoded data removed]",
      "text/plain": [
       "<Figure size 800x800 with 2 Axes>"
      ]
     },
     "metadata": {},
     "output_type": "display_data"
    }
   ],
   "source": [
    "acc = history.history['accuracy']\n",
    "val_acc = history.history['val_accuracy']\n",
    "\n",
    "loss = history.history['loss']\n",
    "val_loss = history.history['val_loss']\n",
    "\n",
    "epochs_range = range(epochs)\n",
    "\n",
    "plt.figure(figsize=(8, 8))\n",
    "plt.subplot(1, 2, 1)\n",
    "plt.plot(epochs_range, acc, label='Training Accuracy')\n",
    "plt.plot(epochs_range, val_acc, label='Validation Accuracy')\n",
    "plt.legend(loc='lower right')\n",
    "plt.title('Training and Validation Accuracy')\n",
    "\n",
    "plt.subplot(1, 2, 2)\n",
    "plt.plot(epochs_range, loss, label='Training Loss')\n",
    "plt.plot(epochs_range, val_loss, label='Validation Loss')\n",
    "plt.legend(loc='upper right')\n",
    "plt.title('Training and Validation Loss')\n",
    "plt.show()"
   ]
  },
  {
   "cell_type": "code",
   "execution_count": 71,
   "id": "a1112a80",
   "metadata": {},
   "outputs": [
    {
     "data": {
      "image/png": "[encoded data removed]",
      "text/plain": [
       "<Figure size 800x800 with 2 Axes>"
      ]
     },
     "metadata": {},
     "output_type": "display_data"
    }
   ],
   "source": [
    "acc = history1.history['accuracy']\n",
    "val_acc = history1.history['val_accuracy']\n",
    "\n",
    "loss = history1.history['loss']\n",
    "val_loss = history1.history['val_loss']\n",
    "\n",
    "epochs_range = range(len(loss))#epochs\n",
    "\n",
    "plt.figure(figsize=(8, 8))\n",
    "plt.subplot(1, 2, 1)\n",
    "plt.plot(epochs_range, acc, label='Training Accuracy')\n",
    "plt.plot(epochs_range, val_acc, label='Validation Accuracy')\n",
    "plt.legend(loc='lower right')\n",
    "plt.title('Training and Validation Accuracy')\n",
    "\n",
    "plt.subplot(1, 2, 2)\n",
    "plt.plot(epochs_range, loss, label='Training Loss')\n",
    "plt.plot(epochs_range, val_loss, label='Validation Loss')\n",
    "plt.legend(loc='upper right')\n",
    "plt.title('Training and Validation Loss')\n",
    "plt.show()"
   ]
  },
  {
   "cell_type": "code",
   "execution_count": 72,
   "id": "59c6b9c9",
   "metadata": {},
   "outputs": [
    {
     "name": "stdout",
     "output_type": "stream",
     "text": [
      "WARNING:tensorflow:HDF5 format does not save weights of `optimizer_experimental.Optimizer`, your optimizer will be recompiled at loading time.\n"
     ]
    },
    {
     "name": "stderr",
     "output_type": "stream",
     "text": [
      "WARNING:tensorflow:HDF5 format does not save weights of `optimizer_experimental.Optimizer`, your optimizer will be recompiled at loading time.\n"
     ]
    }
   ],
   "source": [
    "#model.save('C:\\\\Users\\\\Gliwork\\\\Desktop\\\\0-Rojects\\\\2023 Khabarovsk hackaton\\\\efficientnet_model.keras')\n",
    "model.save('efficientnet_20_epochs_model.keras')"
   ]
  },
  {
   "cell_type": "code",
   "execution_count": 46,
   "id": "6c4b8752",
   "metadata": {},
   "outputs": [
    {
     "name": "stdout",
     "output_type": "stream",
     "text": [
      "WARNING:tensorflow:Loading model from HDF5 will not restore the optimizer's weights, since the optimizer is an instance of `optimizer_experimental.Optimizer`\n"
     ]
    },
    {
     "name": "stderr",
     "output_type": "stream",
     "text": [
      "WARNING:tensorflow:Loading model from HDF5 will not restore the optimizer's weights, since the optimizer is an instance of `optimizer_experimental.Optimizer`\n"
     ]
    }
   ],
   "source": [
    "inf_model = tf.keras.models.load_model('efficientnet_20_epochs_model.keras')"
   ]
  },
  {
   "cell_type": "code",
   "execution_count": 23,
   "id": "ec38214a",
   "metadata": {},
   "outputs": [],
   "source": [
    "import os\n",
    "import numpy as np\n",
    "import cv2\n",
    "import tensorflow as tf\n",
    "from tensorflow.keras import backend as K\n",
    "\n",
    "smooth = 1.\n",
    "def dice_coef(y_true, y_pred):\n",
    "    y_true_f = tf.keras.layers.Flatten()(y_true)\n",
    "    y_pred_f = tf.keras.layers.Flatten()(y_pred)\n",
    "    intersection = tf.reduce_sum(y_true_f * y_pred_f)\n",
    "    return (2. * intersection + smooth) / (tf.reduce_sum(y_true_f) + tf.reduce_sum(y_pred_f) + smooth)\n",
    "\n",
    "\n",
    "def dice_loss(y_true, y_pred):\n",
    "    return 1.0 - dice_coef(y_true, y_pred)"
   ]
  },
  {
   "cell_type": "code",
   "execution_count": null,
   "id": "675383aa",
   "metadata": {},
   "outputs": [],
   "source": []
  },
  {
   "cell_type": "code",
   "execution_count": 56,
   "id": "0847f1f7",
   "metadata": {},
   "outputs": [
    {
     "data": {
      "text/plain": [
       "['D:\\\\0-Rojects\\\\2023-Atomhack\\\\sliced\\\\output_file_name.jpg_0_0_300_300.png',\n",
       " 'D:\\\\0-Rojects\\\\2023-Atomhack\\\\sliced\\\\output_file_name.jpg_0_240_300_540.png',\n",
       " 'D:\\\\0-Rojects\\\\2023-Atomhack\\\\sliced\\\\output_file_name.jpg_0_300_300_600.png',\n",
       " 'D:\\\\0-Rojects\\\\2023-Atomhack\\\\sliced\\\\output_file_name.jpg_240_0_540_300.png',\n",
       " 'D:\\\\0-Rojects\\\\2023-Atomhack\\\\sliced\\\\output_file_name.jpg_240_240_540_540.png',\n",
       " 'D:\\\\0-Rojects\\\\2023-Atomhack\\\\sliced\\\\output_file_name.jpg_240_300_540_600.png',\n",
       " 'D:\\\\0-Rojects\\\\2023-Atomhack\\\\sliced\\\\output_file_name.jpg_480_0_780_300.png',\n",
       " 'D:\\\\0-Rojects\\\\2023-Atomhack\\\\sliced\\\\output_file_name.jpg_480_240_780_540.png',\n",
       " 'D:\\\\0-Rojects\\\\2023-Atomhack\\\\sliced\\\\output_file_name.jpg_480_300_780_600.png',\n",
       " 'D:\\\\0-Rojects\\\\2023-Atomhack\\\\sliced\\\\output_file_name.jpg_660_0_960_300.png',\n",
       " 'D:\\\\0-Rojects\\\\2023-Atomhack\\\\sliced\\\\output_file_name.jpg_660_240_960_540.png',\n",
       " 'D:\\\\0-Rojects\\\\2023-Atomhack\\\\sliced\\\\output_file_name.jpg_660_300_960_600.png']"
      ]
     },
     "execution_count": 56,
     "metadata": {},
     "output_type": "execute_result"
    }
   ],
   "source": [
    "path = os.getcwd()\n",
    "prediction_folder = path + '\\\\sliced'\n",
    "folder = prediction_folder + '\\\\*'\n",
    "#os.scandir\n",
    "from glob import glob\n",
    "files = glob(folder, recursive = True)\n",
    "#folder\n",
    "files"
   ]
  },
  {
   "cell_type": "code",
   "execution_count": 57,
   "id": "b15cbb34",
   "metadata": {
    "scrolled": true
   },
   "outputs": [
    {
     "name": "stdout",
     "output_type": "stream",
     "text": [
      "1/1 [==============================] - 0s 41ms/step\n",
      "\\output_file_name.jpg_0_0_300_300.png  -  1 ( 1 )\n",
      "1/1 [==============================] - 0s 40ms/step\n",
      "\\output_file_name.jpg_0_240_300_540.png  -  1 ( 1 )\n",
      "1/1 [==============================] - 0s 39ms/step\n",
      "\\output_file_name.jpg_0_300_300_600.png  -  1 ( 1 )\n",
      "1/1 [==============================] - 0s 38ms/step\n",
      "\\output_file_name.jpg_240_0_540_300.png  -  1 ( 1 )\n",
      "1/1 [==============================] - 0s 41ms/step\n",
      "\\output_file_name.jpg_240_240_540_540.png  -  1 ( 1 )\n",
      "1/1 [==============================] - 0s 40ms/step\n",
      "\\output_file_name.jpg_240_300_540_600.png  -  1 ( 1 )\n",
      "1/1 [==============================] - 0s 39ms/step\n",
      "\\output_file_name.jpg_480_0_780_300.png  -  0 ( 0 )\n",
      "1/1 [==============================] - 0s 42ms/step\n",
      "\\output_file_name.jpg_480_240_780_540.png  -  1 ( 1 )\n",
      "1/1 [==============================] - 0s 41ms/step\n",
      "\\output_file_name.jpg_480_300_780_600.png  -  1 ( 1 )\n",
      "1/1 [==============================] - 0s 40ms/step\n",
      "\\output_file_name.jpg_660_0_960_300.png  -  1 ( 1 )\n",
      "1/1 [==============================] - 0s 40ms/step\n",
      "\\output_file_name.jpg_660_240_960_540.png  -  1 ( 1 )\n",
      "1/1 [==============================] - 0s 40ms/step\n",
      "\\output_file_name.jpg_660_300_960_600.png  -  1 ( 1 )\n",
      "Time:  1.169887900003232\n"
     ]
    }
   ],
   "source": [
    "import timeit\n",
    "\n",
    "start = timeit.default_timer()\n",
    "files = glob(folder, recursive = True)\n",
    "for image_path in files:\n",
    "    image = tf.keras.utils.load_img(image_path)\n",
    "    image = np.array(image)\n",
    "    image = tf.image.resize(image, [img_height, img_width])\n",
    "    input_arr = tf.keras.utils.img_to_array(image)\n",
    "    predictions = inf_model.predict(np.array([input_arr]))#(normalized_input_arr)\n",
    "    #print(predictions)\n",
    "    print(image_path[image_path.rfind('\\\\'):], ' - ',np.argmax(predictions), '(',detail_names_list[np.argmax(predictions)],')')\n",
    "    stop = timeit.default_timer()\n",
    "\n",
    "print('Time: ', stop - start)  "
   ]
  },
  {
   "cell_type": "code",
   "execution_count": 74,
   "id": "d221c23e",
   "metadata": {},
   "outputs": [],
   "source": []
  }
 ],
 "metadata": {
  "kernelspec": {
   "display_name": "Python 3 (ipykernel)",
   "language": "python",
   "name": "python3"
  },
  "language_info": {
   "codemirror_mode": {
    "name": "ipython",
    "version": 3
   },
   "file_extension": ".py",
   "mimetype": "text/x-python",
   "name": "python",
   "nbconvert_exporter": "python",
   "pygments_lexer": "ipython3",
   "version": "3.10.13"
  }
 },
 "nbformat": 4,
 "nbformat_minor": 5
}
