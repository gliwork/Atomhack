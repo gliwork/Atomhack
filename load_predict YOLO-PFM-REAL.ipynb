{
 "cells": [
  {
   "cell_type": "code",
   "execution_count": 1,
   "id": "25346a0f",
   "metadata": {},
   "outputs": [],
   "source": [
    "from ultralytics import YOLO\n",
    "\n",
    "# Load a model\n",
    "#model = YOLO(\"yolov8m.pt\")  # load a pretrained model (recommended for training)"
   ]
  },
  {
   "cell_type": "code",
   "execution_count": 4,
   "id": "d2304798-8507-44a8-9ab8-a05b79a16c48",
   "metadata": {},
   "outputs": [
    {
     "name": "stdout",
     "output_type": "stream",
     "text": [
      "CPU times: total: 0 ns\n",
      "Wall time: 0 ns\n"
     ]
    }
   ],
   "source": [
    "%time\n",
    "inf_model = YOLO('./models/best.pt')  # load a custom model\n",
    "results = inf_model('test/',save= True,augment = True)  # predict on an image"
   ]
  },
  {
   "cell_type": "code",
   "execution_count": null,
   "id": "74e8a30e-2cbb-47a9-ac69-c8e8d5187c92",
   "metadata": {},
   "outputs": [],
   "source": []
  },
  {
   "cell_type": "code",
   "execution_count": 5,
   "id": "ad57ec01",
   "metadata": {},
   "outputs": [],
   "source": [
    "from sahi.utils.yolov8 import (\n",
    "    download_yolov8s_model,\n",
    ")\n",
    "from sahi import AutoDetectionModel\n",
    "from sahi.utils.cv import read_image\n",
    "from sahi.utils.file import download_from_url\n",
    "from sahi.predict import get_prediction, get_sliced_prediction, predict\n",
    "from IPython.display import Image\n"
   ]
  },
  {
   "cell_type": "code",
   "execution_count": 6,
   "id": "d01639a1",
   "metadata": {},
   "outputs": [],
   "source": [
    "yolov8_model_path = './models/best.pt'\n",
    "download_yolov8s_model(yolov8_model_path)\n"
   ]
  },
  {
   "cell_type": "code",
   "execution_count": 7,
   "id": "19088b5d",
   "metadata": {},
   "outputs": [],
   "source": [
    "detection_model = AutoDetectionModel.from_pretrained(\n",
    "    model_type='yolov8',\n",
    "    model_path=yolov8_model_path,\n",
    "    confidence_threshold=0.3,\n",
    "    device='cuda:0'\n",
    ")"
   ]
  },
  {
   "cell_type": "code",
   "execution_count": 10,
   "id": "1f82701f-d7c9-4c8c-b8ac-e062f471835f",
   "metadata": {},
   "outputs": [],
   "source": [
    "from sahi.slicing import slice_image\n",
    "filename =   #введите название файла в этой же папке\n",
    "slice_image_result = slice_image(\n",
    "    image=filename,\n",
    "    output_file_name='output'+filename,\n",
    "    output_dir=\"./sliced\",\n",
    "    slice_height=300,\n",
    "    slice_width=300,\n",
    "    overlap_height_ratio=0.2,\n",
    "    overlap_width_ratio=0.2,\n",
    ")"
   ]
  },
  {
   "cell_type": "code",
   "execution_count": 13,
   "id": "ffa32794",
   "metadata": {},
   "outputs": [
    {
     "name": "stdout",
     "output_type": "stream",
     "text": [
      "Performing prediction on 15 number of slices.\n"
     ]
    }
   ],
   "source": [
    "result = get_sliced_prediction(\n",
    "        filename,\n",
    "    detection_model,\n",
    "    slice_height =300,\n",
    "    slice_width = 300,\n",
    "    overlap_height_ratio = 0.3,\n",
    "    overlap_width_ratio = 0.3\n",
    ")"
   ]
  },
  {
   "cell_type": "code",
   "execution_count": 6,
   "id": "9eea35f6",
   "metadata": {},
   "outputs": [],
   "source": [
    "result.export_visuals(export_dir=\"./\")\n",
    "\n",
    "Image(\"./prediction_visual.png\")\n",
    "\n"
   ]
  },
  {
   "cell_type": "code",
   "execution_count": null,
   "id": "b27aebe5-9d7a-4f6d-8981-a77044e1b468",
   "metadata": {},
   "outputs": [],
   "source": []
  }
 ],
 "metadata": {
  "kernelspec": {
   "display_name": "Python 3 (ipykernel)",
   "language": "python",
   "name": "python3"
  },
  "language_info": {
   "codemirror_mode": {
    "name": "ipython",
    "version": 3
   },
   "file_extension": ".py",
   "mimetype": "text/x-python",
   "name": "python",
   "nbconvert_exporter": "python",
   "pygments_lexer": "ipython3",
   "version": "3.10.0"
  }
 },
 "nbformat": 4,
 "nbformat_minor": 5
}
