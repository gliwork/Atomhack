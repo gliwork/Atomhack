{
 "cells": [
  {
   "cell_type": "code",
   "execution_count": 1,
   "id": "516aa4bf",
   "metadata": {},
   "outputs": [],
   "source": [
    "import numpy as np\n",
    "import os\n",
    "import tensorflow as tf\n",
    "from tensorflow.keras import datasets, layers, models\n",
    "\n",
    "from tensorflow.keras.preprocessing import image\n",
    "from tensorflow.keras.applications.efficientnet_v2 import EfficientNetV2B1\n",
    "from tensorflow.keras.preprocessing import image\n",
    "from tensorflow.keras.models import Model\n",
    "from tensorflow.keras.layers import Dense, GlobalAveragePooling2D\n",
    "from glob import glob"
   ]
  },
  {
   "cell_type": "code",
   "execution_count": 15,
   "id": "1a51b041",
   "metadata": {},
   "outputs": [],
   "source": [
    "path = os.getcwd()\n",
    "prediction_folder = path + '\\\\test'#prediction'\n",
    "folder = prediction_folder + '\\\\*'\n",
    "files = glob(folder, recursive = True)\n",
    "#files"
   ]
  },
  {
   "cell_type": "code",
   "execution_count": 5,
   "id": "aac10fe8",
   "metadata": {},
   "outputs": [
    {
     "name": "stdout",
     "output_type": "stream",
     "text": [
      "WARNING:tensorflow:Loading model from HDF5 will not restore the optimizer's weights, since the optimizer is an instance of `optimizer_experimental.Optimizer`\n"
     ]
    }
   ],
   "source": [
    "model_path = './models/efficientnet_20_epochs_model.keras'\n",
    "model = tf.keras.models.load_model(model_path)"
   ]
  },
  {
   "cell_type": "code",
   "execution_count": 13,
   "id": "a8c62d44",
   "metadata": {},
   "outputs": [],
   "source": [
    "img_height = 160\n",
    "img_width = 160\n",
    "detail_names_list= ['не дефект','потертость','черная точка','плена','маркер','грязь','накол','н.д. накол','микровыступ','н.д. микровыступ','вмятина','мех.повреждение','риска','царапина с волчком']\n"
   ]
  },
  {
   "cell_type": "code",
   "execution_count": 14,
   "id": "de24eded",
   "metadata": {},
   "outputs": [
    {
     "name": "stdout",
     "output_type": "stream",
     "text": [
      "1/1 [==============================] - 0s 33ms/step\n",
      "файл  0_607.bmp  - артикул:  потертость\n",
      "1/1 [==============================] - 0s 32ms/step\n",
      "файл  0_651.bmp  - артикул:  потертость\n",
      "1/1 [==============================] - 0s 32ms/step\n",
      "файл  1_139.bmp  - артикул:  микровыступ\n",
      "1/1 [==============================] - 0s 34ms/step\n",
      "файл  1_189.bmp  - артикул:  н.д. микровыступ\n",
      "1/1 [==============================] - 0s 33ms/step\n",
      "файл  1_207.bmp  - артикул:  потертость\n",
      "1/1 [==============================] - 0s 34ms/step\n",
      "файл  1_303.bmp  - артикул:  микровыступ\n",
      "1/1 [==============================] - 0s 32ms/step\n",
      "файл  1_429.bmp  - артикул:  микровыступ\n",
      "1/1 [==============================] - 0s 32ms/step\n",
      "файл  1_564.bmp  - артикул:  микровыступ\n",
      "1/1 [==============================] - 0s 32ms/step\n",
      "файл  1_641.bmp  - артикул:  потертость\n",
      "1/1 [==============================] - 0s 34ms/step\n",
      "файл  1_686.bmp  - артикул:  микровыступ\n",
      "1/1 [==============================] - 0s 32ms/step\n",
      "файл  1_769.bmp  - артикул:  потертость\n",
      "1/1 [==============================] - 0s 33ms/step\n",
      "файл  1_800.bmp  - артикул:  микровыступ\n",
      "1/1 [==============================] - 0s 32ms/step\n",
      "файл  1_805.bmp  - артикул:  потертость\n",
      "1/1 [==============================] - 0s 32ms/step\n",
      "файл  1_818.bmp  - артикул:  н.д. микровыступ\n",
      "1/1 [==============================] - 0s 34ms/step\n",
      "файл  2_118.bmp  - артикул:  не дефект\n",
      "1/1 [==============================] - 0s 35ms/step\n",
      "файл  2_127.bmp  - артикул:  микровыступ\n",
      "1/1 [==============================] - 0s 36ms/step\n",
      "файл  2_277.bmp  - артикул:  потертость\n",
      "1/1 [==============================] - 0s 34ms/step\n",
      "файл  2_490.bmp  - артикул:  н.д. микровыступ\n",
      "1/1 [==============================] - 0s 33ms/step\n",
      "файл  2_624.bmp  - артикул:  н.д. микровыступ\n",
      "1/1 [==============================] - 0s 36ms/step\n",
      "файл  2_633.bmp  - артикул:  потертость\n",
      "1/1 [==============================] - 0s 39ms/step\n",
      "файл  2_642.bmp  - артикул:  микровыступ\n",
      "1/1 [==============================] - 0s 35ms/step\n",
      "файл  2_665.bmp  - артикул:  н.д. микровыступ\n",
      "1/1 [==============================] - 0s 36ms/step\n",
      "файл  2_703.bmp  - артикул:  н.д. микровыступ\n",
      "1/1 [==============================] - 0s 37ms/step\n",
      "файл  2_716.bmp  - артикул:  потертость\n",
      "1/1 [==============================] - 0s 34ms/step\n",
      "файл  2_752.bmp  - артикул:  потертость\n",
      "1/1 [==============================] - 0s 37ms/step\n",
      "файл  2_762.bmp  - артикул:  н.д. микровыступ\n",
      "1/1 [==============================] - 0s 36ms/step\n",
      "файл  2_823.bmp  - артикул:  н.д. микровыступ\n",
      "1/1 [==============================] - 0s 32ms/step\n",
      "файл  2_829.bmp  - артикул:  н.д. микровыступ\n",
      "1/1 [==============================] - 0s 34ms/step\n",
      "файл  2_861.bmp  - артикул:  н.д. микровыступ\n",
      "1/1 [==============================] - 0s 35ms/step\n",
      "файл  3_204.bmp  - артикул:  микровыступ\n",
      "1/1 [==============================] - 0s 34ms/step\n",
      "файл  3_631.bmp  - артикул:  микровыступ\n",
      "1/1 [==============================] - 0s 36ms/step\n",
      "файл  3_810.bmp  - артикул:  микровыступ\n",
      "1/1 [==============================] - 0s 36ms/step\n",
      "файл  4_299.bmp  - артикул:  микровыступ\n",
      "1/1 [==============================] - 0s 37ms/step\n",
      "файл  4_477.bmp  - артикул:  потертость\n",
      "1/1 [==============================] - 0s 32ms/step\n",
      "файл  4_750.bmp  - артикул:  потертость\n",
      "1/1 [==============================] - 0s 32ms/step\n",
      "файл  4_868.bmp  - артикул:  микровыступ\n",
      "1/1 [==============================] - 0s 34ms/step\n",
      "файл  5_132.bmp  - артикул:  потертость\n",
      "1/1 [==============================] - 0s 33ms/step\n",
      "файл  5_139.bmp  - артикул:  потертость\n",
      "1/1 [==============================] - 0s 34ms/step\n",
      "файл  5_296.bmp  - артикул:  микровыступ\n",
      "1/1 [==============================] - 0s 33ms/step\n",
      "файл  5_767.bmp  - артикул:  микровыступ\n"
     ]
    }
   ],
   "source": [
    "files = glob(folder, recursive = True)\n",
    "if files!=[]:\n",
    "    for image_path in files:\n",
    "        image = tf.keras.utils.load_img(image_path, target_size =(img_height, img_width) )\n",
    "        #image = tf.image.resize(image, [img_height, img_width])\n",
    "        input_arr = tf.keras.utils.img_to_array(image)\n",
    "        predictions = model.predict(np.array([input_arr]))#(normalized_input_arr)\n",
    "        print('файл ', image_path[image_path.rfind('\\\\')+1:], ' - артикул: ', detail_names_list[np.argmax(predictions)])\n",
    "else:\n",
    "    print('Проблема: Нет фотографий деталей, проверьте папку \"\\prediction\" ')"
   ]
  },
  {
   "cell_type": "code",
   "execution_count": null,
   "id": "63130372",
   "metadata": {},
   "outputs": [],
   "source": []
  },
  {
   "cell_type": "code",
   "execution_count": null,
   "id": "07050b46",
   "metadata": {},
   "outputs": [],
   "source": []
  }
 ],
 "metadata": {
  "kernelspec": {
   "display_name": "Python 3 (ipykernel)",
   "language": "python",
   "name": "python3"
  },
  "language_info": {
   "codemirror_mode": {
    "name": "ipython",
    "version": 3
   },
   "file_extension": ".py",
   "mimetype": "text/x-python",
   "name": "python",
   "nbconvert_exporter": "python",
   "pygments_lexer": "ipython3",
   "version": "3.10.13"
  }
 },
 "nbformat": 4,
 "nbformat_minor": 5
}
