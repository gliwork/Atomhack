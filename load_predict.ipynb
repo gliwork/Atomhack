{
 "cells": [
  {
   "cell_type": "code",
   "execution_count": 1,
   "id": "516aa4bf",
   "metadata": {},
   "outputs": [],
   "source": [
    "import numpy as np\n",
    "import os\n",
    "import tensorflow as tf\n",
    "from tensorflow.keras import datasets, layers, models\n",
    "\n",
    "from tensorflow.keras.preprocessing import image\n",
    "from tensorflow.keras.applications.efficientnet_v2 import EfficientNetV2B1\n",
    "from tensorflow.keras.preprocessing import image\n",
    "from tensorflow.keras.models import Model\n",
    "from tensorflow.keras.layers import Dense, GlobalAveragePooling2D\n",
    "from glob import glob"
   ]
  },
  {
   "cell_type": "code",
   "execution_count": 2,
   "id": "1a51b041",
   "metadata": {},
   "outputs": [
    {
     "data": {
      "text/plain": [
       "[]"
      ]
     },
     "execution_count": 2,
     "metadata": {},
     "output_type": "execute_result"
    }
   ],
   "source": [
    "path = os.getcwd()\n",
    "prediction_folder = path + '\\\\sliced'#prediction'\n",
    "folder = prediction_folder + '\\\\*'\n",
    "files = glob(folder, recursive = True)\n",
    "files"
   ]
  },
  {
   "cell_type": "code",
   "execution_count": 3,
   "id": "aac10fe8",
   "metadata": {},
   "outputs": [
    {
     "ename": "OSError",
     "evalue": "No file or directory found at D:\\0-Rojects\\2023 Khabarovsk hackaton\\efficientnet_20_epochs_model.keras",
     "output_type": "error",
     "traceback": [
      "\u001b[1;31m---------------------------------------------------------------------------\u001b[0m",
      "\u001b[1;31mOSError\u001b[0m                                   Traceback (most recent call last)",
      "Cell \u001b[1;32mIn[3], line 2\u001b[0m\n\u001b[0;32m      1\u001b[0m model_path \u001b[38;5;241m=\u001b[39m path \u001b[38;5;241m+\u001b[39m \u001b[38;5;124m'\u001b[39m\u001b[38;5;130;01m\\\\\u001b[39;00m\u001b[38;5;124mefficientnet_20_epochs_model.keras\u001b[39m\u001b[38;5;124m'\u001b[39m\u001b[38;5;66;03m#efficientnet_model.keras\u001b[39;00m\n\u001b[1;32m----> 2\u001b[0m model \u001b[38;5;241m=\u001b[39m \u001b[43mtf\u001b[49m\u001b[38;5;241;43m.\u001b[39;49m\u001b[43mkeras\u001b[49m\u001b[38;5;241;43m.\u001b[39;49m\u001b[43mmodels\u001b[49m\u001b[38;5;241;43m.\u001b[39;49m\u001b[43mload_model\u001b[49m\u001b[43m(\u001b[49m\u001b[43mmodel_path\u001b[49m\u001b[43m)\u001b[49m\n",
      "File \u001b[1;32m~\\miniconda3\\envs\\tf-gpu\\lib\\site-packages\\keras\\utils\\traceback_utils.py:70\u001b[0m, in \u001b[0;36mfilter_traceback.<locals>.error_handler\u001b[1;34m(*args, **kwargs)\u001b[0m\n\u001b[0;32m     67\u001b[0m     filtered_tb \u001b[38;5;241m=\u001b[39m _process_traceback_frames(e\u001b[38;5;241m.\u001b[39m__traceback__)\n\u001b[0;32m     68\u001b[0m     \u001b[38;5;66;03m# To get the full stack trace, call:\u001b[39;00m\n\u001b[0;32m     69\u001b[0m     \u001b[38;5;66;03m# `tf.debugging.disable_traceback_filtering()`\u001b[39;00m\n\u001b[1;32m---> 70\u001b[0m     \u001b[38;5;28;01mraise\u001b[39;00m e\u001b[38;5;241m.\u001b[39mwith_traceback(filtered_tb) \u001b[38;5;28;01mfrom\u001b[39;00m \u001b[38;5;28;01mNone\u001b[39;00m\n\u001b[0;32m     71\u001b[0m \u001b[38;5;28;01mfinally\u001b[39;00m:\n\u001b[0;32m     72\u001b[0m     \u001b[38;5;28;01mdel\u001b[39;00m filtered_tb\n",
      "File \u001b[1;32m~\\miniconda3\\envs\\tf-gpu\\lib\\site-packages\\keras\\saving\\save.py:226\u001b[0m, in \u001b[0;36mload_model\u001b[1;34m(filepath, custom_objects, compile, options)\u001b[0m\n\u001b[0;32m    224\u001b[0m \u001b[38;5;28;01mif\u001b[39;00m \u001b[38;5;28misinstance\u001b[39m(filepath_str, \u001b[38;5;28mstr\u001b[39m):\n\u001b[0;32m    225\u001b[0m     \u001b[38;5;28;01mif\u001b[39;00m \u001b[38;5;129;01mnot\u001b[39;00m tf\u001b[38;5;241m.\u001b[39mio\u001b[38;5;241m.\u001b[39mgfile\u001b[38;5;241m.\u001b[39mexists(filepath_str):\n\u001b[1;32m--> 226\u001b[0m         \u001b[38;5;28;01mraise\u001b[39;00m \u001b[38;5;167;01mIOError\u001b[39;00m(\n\u001b[0;32m    227\u001b[0m             \u001b[38;5;124mf\u001b[39m\u001b[38;5;124m\"\u001b[39m\u001b[38;5;124mNo file or directory found at \u001b[39m\u001b[38;5;132;01m{\u001b[39;00mfilepath_str\u001b[38;5;132;01m}\u001b[39;00m\u001b[38;5;124m\"\u001b[39m\n\u001b[0;32m    228\u001b[0m         )\n\u001b[0;32m    230\u001b[0m     \u001b[38;5;28;01mif\u001b[39;00m tf\u001b[38;5;241m.\u001b[39mio\u001b[38;5;241m.\u001b[39mgfile\u001b[38;5;241m.\u001b[39misdir(filepath_str):\n\u001b[0;32m    231\u001b[0m         \u001b[38;5;28;01mreturn\u001b[39;00m saved_model_load\u001b[38;5;241m.\u001b[39mload(\n\u001b[0;32m    232\u001b[0m             filepath_str, \u001b[38;5;28mcompile\u001b[39m, options\n\u001b[0;32m    233\u001b[0m         )\n",
      "\u001b[1;31mOSError\u001b[0m: No file or directory found at D:\\0-Rojects\\2023 Khabarovsk hackaton\\efficientnet_20_epochs_model.keras"
     ]
    }
   ],
   "source": [
    "model_path = path + '\\\\efficientnet_20_epochs_model.keras'#efficientnet_model.keras\n",
    "model = tf.keras.models.load_model(model_path)"
   ]
  },
  {
   "cell_type": "code",
   "execution_count": 4,
   "id": "a8c62d44",
   "metadata": {},
   "outputs": [],
   "source": [
    "img_height = 300\n",
    "img_width = 300\n"
   ]
  },
  {
   "cell_type": "code",
   "execution_count": 7,
   "id": "de24eded",
   "metadata": {},
   "outputs": [
    {
     "name": "stdout",
     "output_type": "stream",
     "text": [
      "1/1 [==============================] - 3s 3s/step\n",
      "файл  IMG_20230920_143310.jpg  - артикул:  СВП120.42.020\n",
      "1/1 [==============================] - 0s 146ms/step\n",
      "файл  IMG_20230920_143311.jpg  - артикул:  СВП120.42.020\n",
      "1/1 [==============================] - 0s 140ms/step\n",
      "файл  IMG_20230920_143313.jpg  - артикул:  СВП120.42.020\n",
      "1/1 [==============================] - 0s 137ms/step\n",
      "файл  IMG_20230920_143314.jpg  - артикул:  СВП120.42.020\n",
      "1/1 [==============================] - 0s 139ms/step\n",
      "файл  IMG_20230920_143321.jpg  - артикул:  СВП120.42.020\n",
      "1/1 [==============================] - 0s 145ms/step\n",
      "файл  IMG_20230920_143322.jpg  - артикул:  СВП120.42.020\n",
      "1/1 [==============================] - 0s 135ms/step\n",
      "файл  IMG_20230920_143323.jpg  - артикул:  СВП120.42.020\n",
      "1/1 [==============================] - 0s 155ms/step\n",
      "файл  IMG_20230920_143324.jpg  - артикул:  СВП120.42.020\n",
      "1/1 [==============================] - 0s 143ms/step\n",
      "файл  IMG_20230920_143324_1.jpg  - артикул:  СВП120.42.020\n",
      "1/1 [==============================] - 0s 144ms/step\n",
      "файл  IMG_20230920_143325.jpg  - артикул:  СВП120.42.020\n",
      "1/1 [==============================] - 0s 139ms/step\n",
      "файл  IMG_20230920_143326.jpg  - артикул:  СВП120.42.020\n",
      "1/1 [==============================] - 0s 137ms/step\n",
      "файл  IMG_20230920_143327.jpg  - артикул:  СВП120.42.020\n",
      "1/1 [==============================] - 0s 131ms/step\n",
      "файл  IMG_20230920_143327_1.jpg  - артикул:  СВП120.42.020\n"
     ]
    }
   ],
   "source": [
    "files = glob(folder, recursive = True)\n",
    "if files!=[]:\n",
    "    for image_path in files:\n",
    "        image = tf.keras.utils.load_img(image_path)\n",
    "        image = tf.image.resize(image, [img_height, img_width])\n",
    "        input_arr = tf.keras.utils.img_to_array(image)\n",
    "        predictions = model.predict(np.array([input_arr]))#(normalized_input_arr)\n",
    "        print('файл ', image_path[image_path.rfind('\\\\')+1:], ' - артикул: ', detail_names_list[np.argmax(predictions)])\n",
    "else:\n",
    "    print('Проблема: Нет фотографий деталей, проверьте папку \"\\prediction\" ')"
   ]
  },
  {
   "cell_type": "code",
   "execution_count": null,
   "id": "63130372",
   "metadata": {},
   "outputs": [],
   "source": []
  },
  {
   "cell_type": "code",
   "execution_count": null,
   "id": "07050b46",
   "metadata": {},
   "outputs": [],
   "source": []
  }
 ],
 "metadata": {
  "kernelspec": {
   "display_name": "Python 3 (ipykernel)",
   "language": "python",
   "name": "python3"
  },
  "language_info": {
   "codemirror_mode": {
    "name": "ipython",
    "version": 3
   },
   "file_extension": ".py",
   "mimetype": "text/x-python",
   "name": "python",
   "nbconvert_exporter": "python",
   "pygments_lexer": "ipython3",
   "version": "3.10.13"
  }
 },
 "nbformat": 4,
 "nbformat_minor": 5
}
